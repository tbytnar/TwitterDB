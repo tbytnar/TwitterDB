{
 "metadata": {
  "language_info": {
   "codemirror_mode": {
    "name": "ipython",
    "version": 3
   },
   "file_extension": ".py",
   "mimetype": "text/x-python",
   "name": "python",
   "nbconvert_exporter": "python",
   "pygments_lexer": "ipython3",
   "version": "3.8.5-final"
  },
  "orig_nbformat": 2,
  "kernelspec": {
   "name": "Python 3.8.5 32-bit ('.venv': venv)",
   "display_name": "Python 3.8.5 32-bit ('.venv': venv)",
   "metadata": {
    "interpreter": {
     "hash": "85576015c4d623d36595b0fd5756c09590e39b46093b31366cfd3119cd5a5cd3"
    }
   }
  }
 },
 "nbformat": 4,
 "nbformat_minor": 2,
 "cells": [
  {
   "cell_type": "code",
   "execution_count": 25,
   "metadata": {},
   "outputs": [
    {
     "output_type": "stream",
     "name": "stdout",
     "text": [
      "Requirement already satisfied: pandas in d:\\development\\twitterdb\\.venv\\lib\\site-packages (1.1.3)\n",
      "Requirement already satisfied: python-dateutil>=2.7.3 in d:\\development\\twitterdb\\.venv\\lib\\site-packages (from pandas) (2.8.1)\n",
      "Requirement already satisfied: pytz>=2017.2 in d:\\development\\twitterdb\\.venv\\lib\\site-packages (from pandas) (2020.1)\n",
      "Requirement already satisfied: numpy>=1.15.4 in d:\\development\\twitterdb\\.venv\\lib\\site-packages (from pandas) (1.19.2)\n",
      "Requirement already satisfied: six>=1.5 in d:\\development\\twitterdb\\.venv\\lib\\site-packages (from python-dateutil>=2.7.3->pandas) (1.15.0)\n",
      "WARNING: You are using pip version 20.1.1; however, version 20.2.4 is available.\n",
      "You should consider upgrading via the 'd:\\development\\twitterdb\\.venv\\scripts\\python.exe -m pip install --upgrade pip' command.\n",
      "Collecting matplotlib\n",
      "  Using cached matplotlib-3.3.2-cp38-cp38-win32.whl (8.3 MB)\n",
      "Requirement already satisfied: python-dateutil>=2.1 in d:\\development\\twitterdb\\.venv\\lib\\site-packages (from matplotlib) (2.8.1)\n",
      "Collecting cycler>=0.10\n",
      "  Using cached cycler-0.10.0-py2.py3-none-any.whl (6.5 kB)\n",
      "Requirement already satisfied: certifi>=2020.06.20 in d:\\development\\twitterdb\\.venv\\lib\\site-packages (from matplotlib) (2020.6.20)\n",
      "Collecting kiwisolver>=1.0.1\n",
      "  Downloading kiwisolver-1.3.0-cp38-cp38-win32.whl (42 kB)\n",
      "Collecting pyparsing!=2.0.4,!=2.1.2,!=2.1.6,>=2.0.3\n",
      "  Using cached pyparsing-2.4.7-py2.py3-none-any.whl (67 kB)\n",
      "Collecting pillow>=6.2.0\n",
      "  Downloading Pillow-8.0.1-cp38-cp38-win32.whl (1.9 MB)\n",
      "Requirement already satisfied: numpy>=1.15 in d:\\development\\twitterdb\\.venv\\lib\\site-packages (from matplotlib) (1.19.2)\n",
      "Requirement already satisfied: six>=1.5 in d:\\development\\twitterdb\\.venv\\lib\\site-packages (from python-dateutil>=2.1->matplotlib) (1.15.0)\n",
      "Installing collected packages: cycler, kiwisolver, pyparsing, pillow, matplotlib\n",
      "Successfully installed cycler-0.10.0 kiwisolver-1.3.0 matplotlib-3.3.2 pillow-8.0.1 pyparsing-2.4.7\n",
      "WARNING: You are using pip version 20.1.1; however, version 20.2.4 is available.\n",
      "You should consider upgrading via the 'd:\\development\\twitterdb\\.venv\\scripts\\python.exe -m pip install --upgrade pip' command.\n"
     ]
    }
   ],
   "source": [
    "!pip install pandas\n",
    "!pip install matplotlib"
   ]
  },
  {
   "cell_type": "code",
   "execution_count": 34,
   "metadata": {},
   "outputs": [],
   "source": [
    "from pymongo import MongoClient\n",
    "from pymongo import ReturnDocument\n",
    "import json\n",
    "import pandas as pd\n",
    "import matplotlib.pyplot as plt"
   ]
  },
  {
   "cell_type": "code",
   "execution_count": 11,
   "metadata": {},
   "outputs": [],
   "source": [
    "with open(\"config.json\", \"r\") as file:\n",
    "    config = json.load(file)\n",
    "\n",
    "try:\n",
    "    config # Make sure config exists\n",
    "except NameError: \n",
    "    print('There is an error with config.json')\n",
    "    quit()"
   ]
  },
  {
   "cell_type": "code",
   "execution_count": 12,
   "metadata": {},
   "outputs": [],
   "source": [
    "client = MongoClient(config['mongo_connection'])\n",
    "db = client['moon_frog_dev']\n",
    "twitter_raw = db.twitter_raw"
   ]
  },
  {
   "cell_type": "code",
   "execution_count": 30,
   "metadata": {},
   "outputs": [],
   "source": [
    "# Get all raw tweets\n",
    "tweets_raw = pd.DataFrame(list(twitter_raw.find()))\n",
    "\n",
    "# Convert date_created column to datetime64\n",
    "tweets_raw['date_created'] = pd.to_datetime(tweets_raw['date_created'])\n",
    "\n",
    "tweets_final = tweets_raw.set_index('date_created')"
   ]
  },
  {
   "cell_type": "code",
   "execution_count": 31,
   "metadata": {},
   "outputs": [
    {
     "output_type": "execute_result",
     "data": {
      "text/plain": [
       "                                                _id             tweet_id  \\\n",
       "date_created                                                               \n",
       "2020-10-26 16:18:36+00:00  5f96f6e07a8b0d465172e0b1  1320761757242060802   \n",
       "2020-10-26 16:18:36+00:00  5f96f6e17a8b0d465172e0b2  1320761757145698304   \n",
       "2020-10-26 16:18:36+00:00  5f96f6e17a8b0d465172e0b3  1320761757346967554   \n",
       "2020-10-26 16:18:36+00:00  5f96f6e17a8b0d465172e0b4  1320761757326036992   \n",
       "2020-10-26 16:18:36+00:00  5f96f6e17a8b0d465172e0b5  1320761757292503041   \n",
       "2020-10-26 16:18:36+00:00  5f96f6e17a8b0d465172e0b6  1320761757384744961   \n",
       "2020-10-26 16:18:36+00:00  5f96f6e17a8b0d465172e0b7  1320761757485441024   \n",
       "2020-10-26 16:18:36+00:00  5f96f6e17a8b0d465172e0b8  1320761757380628481   \n",
       "2020-10-26 16:18:36+00:00  5f96f6e17a8b0d465172e0b9  1320761757477052417   \n",
       "2020-10-26 16:18:36+00:00  5f96f6e17a8b0d465172e0ba  1320761757586001922   \n",
       "2020-10-26 16:18:36+00:00  5f96f6e17a8b0d465172e0bb  1320761757665693707   \n",
       "2020-10-26 16:18:36+00:00  5f96f6e27a8b0d465172e0bc  1320761757548355584   \n",
       "2020-10-26 16:18:36+00:00  5f96f6e27a8b0d465172e0bd  1320761757632204800   \n",
       "2020-10-26 16:18:36+00:00  5f96f6e27a8b0d465172e0be  1320761757799911425   \n",
       "2020-10-26 16:18:36+00:00  5f96f6e27a8b0d465172e0bf  1320761757451849732   \n",
       "\n",
       "                                 user_name                  user_location  \\\n",
       "date_created                                                                \n",
       "2020-10-26 16:18:36+00:00  1618thDimension  Australia  Cyprus  161️⃣7️⃣18   \n",
       "2020-10-26 16:18:36+00:00     troy30851476                           None   \n",
       "2020-10-26 16:18:36+00:00   booboojeffries                  Michigan, USA   \n",
       "2020-10-26 16:18:36+00:00   erin3141592653                  New Hampshire   \n",
       "2020-10-26 16:18:36+00:00          anatn0m                           dmv    \n",
       "2020-10-26 16:18:36+00:00   EmilyFrances11                           None   \n",
       "2020-10-26 16:18:36+00:00        0925Chris                 Dover, NJ 0925   \n",
       "2020-10-26 16:18:36+00:00       KAMbot1138                 Middle America   \n",
       "2020-10-26 16:18:36+00:00   VeroArtistBlue                           None   \n",
       "2020-10-26 16:18:36+00:00    JessicaSherif                   Los Angeles    \n",
       "2020-10-26 16:18:36+00:00      ADClarkeQ17                           None   \n",
       "2020-10-26 16:18:36+00:00        rsdarnell                    Bozeman, MT   \n",
       "2020-10-26 16:18:36+00:00  rubylovesrubys1                       Queendom   \n",
       "2020-10-26 16:18:36+00:00  DianeTravel2tan                      Boise, ID   \n",
       "2020-10-26 16:18:36+00:00   AnimalStories4                           None   \n",
       "\n",
       "                                        hashtags       original_tweet  \\\n",
       "date_created                                                            \n",
       "2020-10-26 16:18:36+00:00                     []                 None   \n",
       "2020-10-26 16:18:36+00:00                     []  1320759804055441415   \n",
       "2020-10-26 16:18:36+00:00                     []  1320758945254907907   \n",
       "2020-10-26 16:18:36+00:00                     []                 None   \n",
       "2020-10-26 16:18:36+00:00                     []                 None   \n",
       "2020-10-26 16:18:36+00:00                     []                 None   \n",
       "2020-10-26 16:18:36+00:00                     []                 None   \n",
       "2020-10-26 16:18:36+00:00                     []                 None   \n",
       "2020-10-26 16:18:36+00:00  [trump, TraitorTrump]                 None   \n",
       "2020-10-26 16:18:36+00:00                     []                 None   \n",
       "2020-10-26 16:18:36+00:00                     []                 None   \n",
       "2020-10-26 16:18:36+00:00                     []                 None   \n",
       "2020-10-26 16:18:36+00:00                     []                 None   \n",
       "2020-10-26 16:18:36+00:00                     []                 None   \n",
       "2020-10-26 16:18:36+00:00                     []                 None   \n",
       "\n",
       "                                                                     content  \\\n",
       "date_created                                                                   \n",
       "2020-10-26 16:18:36+00:00  RT @MomJar1: Trump saved 2 million lives shutt...   \n",
       "2020-10-26 16:18:36+00:00  @madisongesiotto @realDonaldTrump I guess you ...   \n",
       "2020-10-26 16:18:36+00:00  @Brendelbored @samantha_zager @carlquintanilla...   \n",
       "2020-10-26 16:18:36+00:00                                 This is terrifying   \n",
       "2020-10-26 16:18:36+00:00  RT @brownsxga: lil pump is a prime example of ...   \n",
       "2020-10-26 16:18:36+00:00  RT @TrumpWarRoom: Joe Biden promised to renego...   \n",
       "2020-10-26 16:18:36+00:00  RT @RichardGrenell: I love my friend @maryanne...   \n",
       "2020-10-26 16:18:36+00:00  Actually, the \"Fake news\" line was pushed to j...   \n",
       "2020-10-26 16:18:36+00:00  'Has He Upheld His Oath Of Office?,' Author As...   \n",
       "2020-10-26 16:18:36+00:00  RT @PoliticusSarah: This was Trump's epic melt...   \n",
       "2020-10-26 16:18:36+00:00  RT @montaga: This Antifa POS pepper sprayed a ...   \n",
       "2020-10-26 16:18:36+00:00  These are true words to be read by all and the...   \n",
       "2020-10-26 16:18:36+00:00  RT @brownsxga: lil pump is a prime example of ...   \n",
       "2020-10-26 16:18:36+00:00  RT @Amy_Siskind: Pennsylvania ‼️ - PA ain’t pl...   \n",
       "2020-10-26 16:18:36+00:00  Biden/Harris are better by far than any GOP ni...   \n",
       "\n",
       "                          sentiment language  \n",
       "date_created                                  \n",
       "2020-10-26 16:18:36+00:00  Positive      NaN  \n",
       "2020-10-26 16:18:36+00:00  Positive      NaN  \n",
       "2020-10-26 16:18:36+00:00  Negative      NaN  \n",
       "2020-10-26 16:18:36+00:00  Positive      NaN  \n",
       "2020-10-26 16:18:36+00:00  Negative      NaN  \n",
       "2020-10-26 16:18:36+00:00  Negative      NaN  \n",
       "2020-10-26 16:18:36+00:00  Positive      NaN  \n",
       "2020-10-26 16:18:36+00:00  Negative      NaN  \n",
       "2020-10-26 16:18:36+00:00  Positive      NaN  \n",
       "2020-10-26 16:18:36+00:00  Negative      NaN  \n",
       "2020-10-26 16:18:36+00:00  Positive      NaN  \n",
       "2020-10-26 16:18:36+00:00  Positive      NaN  \n",
       "2020-10-26 16:18:36+00:00  Negative      NaN  \n",
       "2020-10-26 16:18:36+00:00  Negative      NaN  \n",
       "2020-10-26 16:18:36+00:00  Negative      NaN  "
      ],
      "text/html": "<div>\n<style scoped>\n    .dataframe tbody tr th:only-of-type {\n        vertical-align: middle;\n    }\n\n    .dataframe tbody tr th {\n        vertical-align: top;\n    }\n\n    .dataframe thead th {\n        text-align: right;\n    }\n</style>\n<table border=\"1\" class=\"dataframe\">\n  <thead>\n    <tr style=\"text-align: right;\">\n      <th></th>\n      <th>_id</th>\n      <th>tweet_id</th>\n      <th>user_name</th>\n      <th>user_location</th>\n      <th>hashtags</th>\n      <th>original_tweet</th>\n      <th>content</th>\n      <th>sentiment</th>\n      <th>language</th>\n    </tr>\n    <tr>\n      <th>date_created</th>\n      <th></th>\n      <th></th>\n      <th></th>\n      <th></th>\n      <th></th>\n      <th></th>\n      <th></th>\n      <th></th>\n      <th></th>\n    </tr>\n  </thead>\n  <tbody>\n    <tr>\n      <th>2020-10-26 16:18:36+00:00</th>\n      <td>5f96f6e07a8b0d465172e0b1</td>\n      <td>1320761757242060802</td>\n      <td>1618thDimension</td>\n      <td>Australia  Cyprus  161️⃣7️⃣18</td>\n      <td>[]</td>\n      <td>None</td>\n      <td>RT @MomJar1: Trump saved 2 million lives shutt...</td>\n      <td>Positive</td>\n      <td>NaN</td>\n    </tr>\n    <tr>\n      <th>2020-10-26 16:18:36+00:00</th>\n      <td>5f96f6e17a8b0d465172e0b2</td>\n      <td>1320761757145698304</td>\n      <td>troy30851476</td>\n      <td>None</td>\n      <td>[]</td>\n      <td>1320759804055441415</td>\n      <td>@madisongesiotto @realDonaldTrump I guess you ...</td>\n      <td>Positive</td>\n      <td>NaN</td>\n    </tr>\n    <tr>\n      <th>2020-10-26 16:18:36+00:00</th>\n      <td>5f96f6e17a8b0d465172e0b3</td>\n      <td>1320761757346967554</td>\n      <td>booboojeffries</td>\n      <td>Michigan, USA</td>\n      <td>[]</td>\n      <td>1320758945254907907</td>\n      <td>@Brendelbored @samantha_zager @carlquintanilla...</td>\n      <td>Negative</td>\n      <td>NaN</td>\n    </tr>\n    <tr>\n      <th>2020-10-26 16:18:36+00:00</th>\n      <td>5f96f6e17a8b0d465172e0b4</td>\n      <td>1320761757326036992</td>\n      <td>erin3141592653</td>\n      <td>New Hampshire</td>\n      <td>[]</td>\n      <td>None</td>\n      <td>This is terrifying</td>\n      <td>Positive</td>\n      <td>NaN</td>\n    </tr>\n    <tr>\n      <th>2020-10-26 16:18:36+00:00</th>\n      <td>5f96f6e17a8b0d465172e0b5</td>\n      <td>1320761757292503041</td>\n      <td>anatn0m</td>\n      <td>dmv</td>\n      <td>[]</td>\n      <td>None</td>\n      <td>RT @brownsxga: lil pump is a prime example of ...</td>\n      <td>Negative</td>\n      <td>NaN</td>\n    </tr>\n    <tr>\n      <th>2020-10-26 16:18:36+00:00</th>\n      <td>5f96f6e17a8b0d465172e0b6</td>\n      <td>1320761757384744961</td>\n      <td>EmilyFrances11</td>\n      <td>None</td>\n      <td>[]</td>\n      <td>None</td>\n      <td>RT @TrumpWarRoom: Joe Biden promised to renego...</td>\n      <td>Negative</td>\n      <td>NaN</td>\n    </tr>\n    <tr>\n      <th>2020-10-26 16:18:36+00:00</th>\n      <td>5f96f6e17a8b0d465172e0b7</td>\n      <td>1320761757485441024</td>\n      <td>0925Chris</td>\n      <td>Dover, NJ 0925</td>\n      <td>[]</td>\n      <td>None</td>\n      <td>RT @RichardGrenell: I love my friend @maryanne...</td>\n      <td>Positive</td>\n      <td>NaN</td>\n    </tr>\n    <tr>\n      <th>2020-10-26 16:18:36+00:00</th>\n      <td>5f96f6e17a8b0d465172e0b8</td>\n      <td>1320761757380628481</td>\n      <td>KAMbot1138</td>\n      <td>Middle America</td>\n      <td>[]</td>\n      <td>None</td>\n      <td>Actually, the \"Fake news\" line was pushed to j...</td>\n      <td>Negative</td>\n      <td>NaN</td>\n    </tr>\n    <tr>\n      <th>2020-10-26 16:18:36+00:00</th>\n      <td>5f96f6e17a8b0d465172e0b9</td>\n      <td>1320761757477052417</td>\n      <td>VeroArtistBlue</td>\n      <td>None</td>\n      <td>[trump, TraitorTrump]</td>\n      <td>None</td>\n      <td>'Has He Upheld His Oath Of Office?,' Author As...</td>\n      <td>Positive</td>\n      <td>NaN</td>\n    </tr>\n    <tr>\n      <th>2020-10-26 16:18:36+00:00</th>\n      <td>5f96f6e17a8b0d465172e0ba</td>\n      <td>1320761757586001922</td>\n      <td>JessicaSherif</td>\n      <td>Los Angeles</td>\n      <td>[]</td>\n      <td>None</td>\n      <td>RT @PoliticusSarah: This was Trump's epic melt...</td>\n      <td>Negative</td>\n      <td>NaN</td>\n    </tr>\n    <tr>\n      <th>2020-10-26 16:18:36+00:00</th>\n      <td>5f96f6e17a8b0d465172e0bb</td>\n      <td>1320761757665693707</td>\n      <td>ADClarkeQ17</td>\n      <td>None</td>\n      <td>[]</td>\n      <td>None</td>\n      <td>RT @montaga: This Antifa POS pepper sprayed a ...</td>\n      <td>Positive</td>\n      <td>NaN</td>\n    </tr>\n    <tr>\n      <th>2020-10-26 16:18:36+00:00</th>\n      <td>5f96f6e27a8b0d465172e0bc</td>\n      <td>1320761757548355584</td>\n      <td>rsdarnell</td>\n      <td>Bozeman, MT</td>\n      <td>[]</td>\n      <td>None</td>\n      <td>These are true words to be read by all and the...</td>\n      <td>Positive</td>\n      <td>NaN</td>\n    </tr>\n    <tr>\n      <th>2020-10-26 16:18:36+00:00</th>\n      <td>5f96f6e27a8b0d465172e0bd</td>\n      <td>1320761757632204800</td>\n      <td>rubylovesrubys1</td>\n      <td>Queendom</td>\n      <td>[]</td>\n      <td>None</td>\n      <td>RT @brownsxga: lil pump is a prime example of ...</td>\n      <td>Negative</td>\n      <td>NaN</td>\n    </tr>\n    <tr>\n      <th>2020-10-26 16:18:36+00:00</th>\n      <td>5f96f6e27a8b0d465172e0be</td>\n      <td>1320761757799911425</td>\n      <td>DianeTravel2tan</td>\n      <td>Boise, ID</td>\n      <td>[]</td>\n      <td>None</td>\n      <td>RT @Amy_Siskind: Pennsylvania ‼️ - PA ain’t pl...</td>\n      <td>Negative</td>\n      <td>NaN</td>\n    </tr>\n    <tr>\n      <th>2020-10-26 16:18:36+00:00</th>\n      <td>5f96f6e27a8b0d465172e0bf</td>\n      <td>1320761757451849732</td>\n      <td>AnimalStories4</td>\n      <td>None</td>\n      <td>[]</td>\n      <td>None</td>\n      <td>Biden/Harris are better by far than any GOP ni...</td>\n      <td>Negative</td>\n      <td>NaN</td>\n    </tr>\n  </tbody>\n</table>\n</div>"
     },
     "metadata": {},
     "execution_count": 31
    }
   ],
   "source": [
    "tweets_final.head(15)"
   ]
  },
  {
   "cell_type": "code",
   "execution_count": 66,
   "metadata": {},
   "outputs": [
    {
     "output_type": "execute_result",
     "data": {
      "text/plain": [
       "Positive    3469\n",
       "Negative    2635\n",
       "Name: sentiment, dtype: int64"
      ]
     },
     "metadata": {},
     "execution_count": 66
    }
   ],
   "source": [
    "data = tweets_final['sentiment'].value_counts()\n",
    "data\n"
   ]
  },
  {
   "cell_type": "code",
   "execution_count": 68,
   "metadata": {},
   "outputs": [
    {
     "output_type": "display_data",
     "data": {
      "text/plain": "<Figure size 432x288 with 1 Axes>",
      "image/svg+xml": "<?xml version=\"1.0\" encoding=\"utf-8\" standalone=\"no\"?>\r\n<!DOCTYPE svg PUBLIC \"-//W3C//DTD SVG 1.1//EN\"\r\n  \"http://www.w3.org/Graphics/SVG/1.1/DTD/svg11.dtd\">\r\n<!-- Created with matplotlib (https://matplotlib.org/) -->\r\n<svg height=\"231.84pt\" version=\"1.1\" viewBox=\"0 0 349.2 231.84\" width=\"349.2pt\" xmlns=\"http://www.w3.org/2000/svg\" xmlns:xlink=\"http://www.w3.org/1999/xlink\">\r\n <metadata>\r\n  <rdf:RDF xmlns:cc=\"http://creativecommons.org/ns#\" xmlns:dc=\"http://purl.org/dc/elements/1.1/\" xmlns:rdf=\"http://www.w3.org/1999/02/22-rdf-syntax-ns#\">\r\n   <cc:Work>\r\n    <dc:type rdf:resource=\"http://purl.org/dc/dcmitype/StillImage\"/>\r\n    <dc:date>2020-10-28T14:04:00.764273</dc:date>\r\n    <dc:format>image/svg+xml</dc:format>\r\n    <dc:creator>\r\n     <cc:Agent>\r\n      <dc:title>Matplotlib v3.3.2, https://matplotlib.org/</dc:title>\r\n     </cc:Agent>\r\n    </dc:creator>\r\n   </cc:Work>\r\n  </rdf:RDF>\r\n </metadata>\r\n <defs>\r\n  <style type=\"text/css\">*{stroke-linecap:butt;stroke-linejoin:round;}</style>\r\n </defs>\r\n <g id=\"figure_1\">\r\n  <g id=\"patch_1\">\r\n   <path d=\"M 0 231.84 \r\nL 349.2 231.84 \r\nL 349.2 0 \r\nL 0 0 \r\nz\r\n\" style=\"fill:none;\"/>\r\n  </g>\r\n  <g id=\"axes_1\">\r\n   <g id=\"patch_2\">\r\n    <path d=\"M 171.797582 19.057984 \r\nC 157.049247 19.057984 142.486665 22.363076 129.18327 28.729635 \r\nC 115.879875 35.096193 104.170776 44.363848 94.919071 55.849463 \r\nC 85.667366 67.335077 79.106103 80.749333 75.718924 95.10344 \r\nC 72.331746 109.457548 72.203974 124.389933 75.345026 138.7999 \r\nC 78.486079 153.209868 84.816834 166.734437 93.870641 178.376687 \r\nC 102.924447 190.018936 114.473243 199.485602 127.665744 206.078878 \r\nC 140.858245 212.672155 155.362138 216.22596 170.108313 216.478336 \r\nC 184.854488 216.730712 199.471496 213.675301 212.881888 207.537325 \r\nL 171.797582 117.775387 \r\nL 171.797582 19.057984 \r\nz\r\n\" style=\"fill:#092436;opacity:0.5;stroke:#092436;stroke-linejoin:miter;\"/>\r\n   </g>\r\n   <g id=\"patch_3\">\r\n    <path d=\"M 212.881888 207.537325 \r\nC 233.362996 198.163061 250.031449 182.055557 260.101073 161.907226 \r\nC 270.170696 141.758894 273.04733 118.75859 268.250138 96.750874 \r\nC 263.452945 74.743159 251.264985 55.026602 233.723507 40.896876 \r\nC 216.182029 26.767151 194.322071 19.057984 171.797582 19.057984 \r\nL 171.797582 117.775387 \r\nL 212.881888 207.537325 \r\nz\r\n\" style=\"fill:#4c2604;opacity:0.5;stroke:#4c2604;stroke-linejoin:miter;\"/>\r\n   </g>\r\n   <g id=\"patch_4\">\r\n    <path d=\"M 173.77193 17.083636 \r\nC 159.023595 17.083636 144.461013 20.388728 131.157618 26.755287 \r\nC 117.854223 33.121845 106.145124 42.3895 96.893419 53.875114 \r\nC 87.641714 65.360729 81.080451 78.774985 77.693272 93.129092 \r\nC 74.306094 107.4832 74.178322 122.415585 77.319374 136.825552 \r\nC 80.460427 151.23552 86.791182 164.760089 95.844989 176.402339 \r\nC 104.898795 188.044588 116.447591 197.511254 129.640092 204.10453 \r\nC 142.832593 210.697807 157.336486 214.251612 172.082661 214.503988 \r\nC 186.828836 214.756364 201.445844 211.700953 214.856236 205.562977 \r\nL 173.77193 115.801039 \r\nL 173.77193 17.083636 \r\nz\r\n\" style=\"fill:#1f77b4;\"/>\r\n   </g>\r\n   <g id=\"patch_5\">\r\n    <path d=\"M 214.856236 205.562977 \r\nC 235.337344 196.188713 252.005797 180.081209 262.075421 159.932878 \r\nC 272.145044 139.784546 275.021678 116.784242 270.224486 94.776526 \r\nC 265.427293 72.768811 253.239333 53.052254 235.697855 38.922528 \r\nC 218.156377 24.792803 196.296419 17.083636 173.77193 17.083636 \r\nL 173.77193 115.801039 \r\nL 214.856236 205.562977 \r\nz\r\n\" style=\"fill:#ff7f0e;\"/>\r\n   </g>\r\n   <g id=\"matplotlib.axis_1\"/>\r\n   <g id=\"matplotlib.axis_2\"/>\r\n   <g id=\"text_1\">\r\n    <!-- Positive -->\r\n    <g transform=\"translate(29.130369 141.687379)scale(0.1 -0.1)\">\r\n     <defs>\r\n      <path d=\"M 19.671875 64.796875 \r\nL 19.671875 37.40625 \r\nL 32.078125 37.40625 \r\nQ 38.96875 37.40625 42.71875 40.96875 \r\nQ 46.484375 44.53125 46.484375 51.125 \r\nQ 46.484375 57.671875 42.71875 61.234375 \r\nQ 38.96875 64.796875 32.078125 64.796875 \r\nz\r\nM 9.8125 72.90625 \r\nL 32.078125 72.90625 \r\nQ 44.34375 72.90625 50.609375 67.359375 \r\nQ 56.890625 61.8125 56.890625 51.125 \r\nQ 56.890625 40.328125 50.609375 34.8125 \r\nQ 44.34375 29.296875 32.078125 29.296875 \r\nL 19.671875 29.296875 \r\nL 19.671875 0 \r\nL 9.8125 0 \r\nz\r\n\" id=\"DejaVuSans-80\"/>\r\n      <path d=\"M 30.609375 48.390625 \r\nQ 23.390625 48.390625 19.1875 42.75 \r\nQ 14.984375 37.109375 14.984375 27.296875 \r\nQ 14.984375 17.484375 19.15625 11.84375 \r\nQ 23.34375 6.203125 30.609375 6.203125 \r\nQ 37.796875 6.203125 41.984375 11.859375 \r\nQ 46.1875 17.53125 46.1875 27.296875 \r\nQ 46.1875 37.015625 41.984375 42.703125 \r\nQ 37.796875 48.390625 30.609375 48.390625 \r\nz\r\nM 30.609375 56 \r\nQ 42.328125 56 49.015625 48.375 \r\nQ 55.71875 40.765625 55.71875 27.296875 \r\nQ 55.71875 13.875 49.015625 6.21875 \r\nQ 42.328125 -1.421875 30.609375 -1.421875 \r\nQ 18.84375 -1.421875 12.171875 6.21875 \r\nQ 5.515625 13.875 5.515625 27.296875 \r\nQ 5.515625 40.765625 12.171875 48.375 \r\nQ 18.84375 56 30.609375 56 \r\nz\r\n\" id=\"DejaVuSans-111\"/>\r\n      <path d=\"M 44.28125 53.078125 \r\nL 44.28125 44.578125 \r\nQ 40.484375 46.53125 36.375 47.5 \r\nQ 32.28125 48.484375 27.875 48.484375 \r\nQ 21.1875 48.484375 17.84375 46.4375 \r\nQ 14.5 44.390625 14.5 40.28125 \r\nQ 14.5 37.15625 16.890625 35.375 \r\nQ 19.28125 33.59375 26.515625 31.984375 \r\nL 29.59375 31.296875 \r\nQ 39.15625 29.25 43.1875 25.515625 \r\nQ 47.21875 21.78125 47.21875 15.09375 \r\nQ 47.21875 7.46875 41.1875 3.015625 \r\nQ 35.15625 -1.421875 24.609375 -1.421875 \r\nQ 20.21875 -1.421875 15.453125 -0.5625 \r\nQ 10.6875 0.296875 5.421875 2 \r\nL 5.421875 11.28125 \r\nQ 10.40625 8.6875 15.234375 7.390625 \r\nQ 20.0625 6.109375 24.8125 6.109375 \r\nQ 31.15625 6.109375 34.5625 8.28125 \r\nQ 37.984375 10.453125 37.984375 14.40625 \r\nQ 37.984375 18.0625 35.515625 20.015625 \r\nQ 33.0625 21.96875 24.703125 23.78125 \r\nL 21.578125 24.515625 \r\nQ 13.234375 26.265625 9.515625 29.90625 \r\nQ 5.8125 33.546875 5.8125 39.890625 \r\nQ 5.8125 47.609375 11.28125 51.796875 \r\nQ 16.75 56 26.8125 56 \r\nQ 31.78125 56 36.171875 55.265625 \r\nQ 40.578125 54.546875 44.28125 53.078125 \r\nz\r\n\" id=\"DejaVuSans-115\"/>\r\n      <path d=\"M 9.421875 54.6875 \r\nL 18.40625 54.6875 \r\nL 18.40625 0 \r\nL 9.421875 0 \r\nz\r\nM 9.421875 75.984375 \r\nL 18.40625 75.984375 \r\nL 18.40625 64.59375 \r\nL 9.421875 64.59375 \r\nz\r\n\" id=\"DejaVuSans-105\"/>\r\n      <path d=\"M 18.3125 70.21875 \r\nL 18.3125 54.6875 \r\nL 36.8125 54.6875 \r\nL 36.8125 47.703125 \r\nL 18.3125 47.703125 \r\nL 18.3125 18.015625 \r\nQ 18.3125 11.328125 20.140625 9.421875 \r\nQ 21.96875 7.515625 27.59375 7.515625 \r\nL 36.8125 7.515625 \r\nL 36.8125 0 \r\nL 27.59375 0 \r\nQ 17.1875 0 13.234375 3.875 \r\nQ 9.28125 7.765625 9.28125 18.015625 \r\nL 9.28125 47.703125 \r\nL 2.6875 47.703125 \r\nL 2.6875 54.6875 \r\nL 9.28125 54.6875 \r\nL 9.28125 70.21875 \r\nz\r\n\" id=\"DejaVuSans-116\"/>\r\n      <path d=\"M 2.984375 54.6875 \r\nL 12.5 54.6875 \r\nL 29.59375 8.796875 \r\nL 46.6875 54.6875 \r\nL 56.203125 54.6875 \r\nL 35.6875 0 \r\nL 23.484375 0 \r\nz\r\n\" id=\"DejaVuSans-118\"/>\r\n      <path d=\"M 56.203125 29.59375 \r\nL 56.203125 25.203125 \r\nL 14.890625 25.203125 \r\nQ 15.484375 15.921875 20.484375 11.0625 \r\nQ 25.484375 6.203125 34.421875 6.203125 \r\nQ 39.59375 6.203125 44.453125 7.46875 \r\nQ 49.3125 8.734375 54.109375 11.28125 \r\nL 54.109375 2.78125 \r\nQ 49.265625 0.734375 44.1875 -0.34375 \r\nQ 39.109375 -1.421875 33.890625 -1.421875 \r\nQ 20.796875 -1.421875 13.15625 6.1875 \r\nQ 5.515625 13.8125 5.515625 26.8125 \r\nQ 5.515625 40.234375 12.765625 48.109375 \r\nQ 20.015625 56 32.328125 56 \r\nQ 43.359375 56 49.78125 48.890625 \r\nQ 56.203125 41.796875 56.203125 29.59375 \r\nz\r\nM 47.21875 32.234375 \r\nQ 47.125 39.59375 43.09375 43.984375 \r\nQ 39.0625 48.390625 32.421875 48.390625 \r\nQ 24.90625 48.390625 20.390625 44.140625 \r\nQ 15.875 39.890625 15.1875 32.171875 \r\nz\r\n\" id=\"DejaVuSans-101\"/>\r\n     </defs>\r\n     <use xlink:href=\"#DejaVuSans-80\"/>\r\n     <use x=\"56.677734\" xlink:href=\"#DejaVuSans-111\"/>\r\n     <use x=\"117.859375\" xlink:href=\"#DejaVuSans-115\"/>\r\n     <use x=\"169.958984\" xlink:href=\"#DejaVuSans-105\"/>\r\n     <use x=\"197.742188\" xlink:href=\"#DejaVuSans-116\"/>\r\n     <use x=\"236.951172\" xlink:href=\"#DejaVuSans-105\"/>\r\n     <use x=\"264.734375\" xlink:href=\"#DejaVuSans-118\"/>\r\n     <use x=\"323.914062\" xlink:href=\"#DejaVuSans-101\"/>\r\n    </g>\r\n   </g>\r\n   <g id=\"text_2\">\r\n    <!-- 56.8% -->\r\n    <g transform=\"translate(100.016803 131.175122)scale(0.1 -0.1)\">\r\n     <defs>\r\n      <path d=\"M 10.796875 72.90625 \r\nL 49.515625 72.90625 \r\nL 49.515625 64.59375 \r\nL 19.828125 64.59375 \r\nL 19.828125 46.734375 \r\nQ 21.96875 47.46875 24.109375 47.828125 \r\nQ 26.265625 48.1875 28.421875 48.1875 \r\nQ 40.625 48.1875 47.75 41.5 \r\nQ 54.890625 34.8125 54.890625 23.390625 \r\nQ 54.890625 11.625 47.5625 5.09375 \r\nQ 40.234375 -1.421875 26.90625 -1.421875 \r\nQ 22.3125 -1.421875 17.546875 -0.640625 \r\nQ 12.796875 0.140625 7.71875 1.703125 \r\nL 7.71875 11.625 \r\nQ 12.109375 9.234375 16.796875 8.0625 \r\nQ 21.484375 6.890625 26.703125 6.890625 \r\nQ 35.15625 6.890625 40.078125 11.328125 \r\nQ 45.015625 15.765625 45.015625 23.390625 \r\nQ 45.015625 31 40.078125 35.4375 \r\nQ 35.15625 39.890625 26.703125 39.890625 \r\nQ 22.75 39.890625 18.8125 39.015625 \r\nQ 14.890625 38.140625 10.796875 36.28125 \r\nz\r\n\" id=\"DejaVuSans-53\"/>\r\n      <path d=\"M 33.015625 40.375 \r\nQ 26.375 40.375 22.484375 35.828125 \r\nQ 18.609375 31.296875 18.609375 23.390625 \r\nQ 18.609375 15.53125 22.484375 10.953125 \r\nQ 26.375 6.390625 33.015625 6.390625 \r\nQ 39.65625 6.390625 43.53125 10.953125 \r\nQ 47.40625 15.53125 47.40625 23.390625 \r\nQ 47.40625 31.296875 43.53125 35.828125 \r\nQ 39.65625 40.375 33.015625 40.375 \r\nz\r\nM 52.59375 71.296875 \r\nL 52.59375 62.3125 \r\nQ 48.875 64.0625 45.09375 64.984375 \r\nQ 41.3125 65.921875 37.59375 65.921875 \r\nQ 27.828125 65.921875 22.671875 59.328125 \r\nQ 17.53125 52.734375 16.796875 39.40625 \r\nQ 19.671875 43.65625 24.015625 45.921875 \r\nQ 28.375 48.1875 33.59375 48.1875 \r\nQ 44.578125 48.1875 50.953125 41.515625 \r\nQ 57.328125 34.859375 57.328125 23.390625 \r\nQ 57.328125 12.15625 50.6875 5.359375 \r\nQ 44.046875 -1.421875 33.015625 -1.421875 \r\nQ 20.359375 -1.421875 13.671875 8.265625 \r\nQ 6.984375 17.96875 6.984375 36.375 \r\nQ 6.984375 53.65625 15.1875 63.9375 \r\nQ 23.390625 74.21875 37.203125 74.21875 \r\nQ 40.921875 74.21875 44.703125 73.484375 \r\nQ 48.484375 72.75 52.59375 71.296875 \r\nz\r\n\" id=\"DejaVuSans-54\"/>\r\n      <path d=\"M 10.6875 12.40625 \r\nL 21 12.40625 \r\nL 21 0 \r\nL 10.6875 0 \r\nz\r\n\" id=\"DejaVuSans-46\"/>\r\n      <path d=\"M 31.78125 34.625 \r\nQ 24.75 34.625 20.71875 30.859375 \r\nQ 16.703125 27.09375 16.703125 20.515625 \r\nQ 16.703125 13.921875 20.71875 10.15625 \r\nQ 24.75 6.390625 31.78125 6.390625 \r\nQ 38.8125 6.390625 42.859375 10.171875 \r\nQ 46.921875 13.96875 46.921875 20.515625 \r\nQ 46.921875 27.09375 42.890625 30.859375 \r\nQ 38.875 34.625 31.78125 34.625 \r\nz\r\nM 21.921875 38.8125 \r\nQ 15.578125 40.375 12.03125 44.71875 \r\nQ 8.5 49.078125 8.5 55.328125 \r\nQ 8.5 64.0625 14.71875 69.140625 \r\nQ 20.953125 74.21875 31.78125 74.21875 \r\nQ 42.671875 74.21875 48.875 69.140625 \r\nQ 55.078125 64.0625 55.078125 55.328125 \r\nQ 55.078125 49.078125 51.53125 44.71875 \r\nQ 48 40.375 41.703125 38.8125 \r\nQ 48.828125 37.15625 52.796875 32.3125 \r\nQ 56.78125 27.484375 56.78125 20.515625 \r\nQ 56.78125 9.90625 50.3125 4.234375 \r\nQ 43.84375 -1.421875 31.78125 -1.421875 \r\nQ 19.734375 -1.421875 13.25 4.234375 \r\nQ 6.78125 9.90625 6.78125 20.515625 \r\nQ 6.78125 27.484375 10.78125 32.3125 \r\nQ 14.796875 37.15625 21.921875 38.8125 \r\nz\r\nM 18.3125 54.390625 \r\nQ 18.3125 48.734375 21.84375 45.5625 \r\nQ 25.390625 42.390625 31.78125 42.390625 \r\nQ 38.140625 42.390625 41.71875 45.5625 \r\nQ 45.3125 48.734375 45.3125 54.390625 \r\nQ 45.3125 60.0625 41.71875 63.234375 \r\nQ 38.140625 66.40625 31.78125 66.40625 \r\nQ 25.390625 66.40625 21.84375 63.234375 \r\nQ 18.3125 60.0625 18.3125 54.390625 \r\nz\r\n\" id=\"DejaVuSans-56\"/>\r\n      <path d=\"M 72.703125 32.078125 \r\nQ 68.453125 32.078125 66.03125 28.46875 \r\nQ 63.625 24.859375 63.625 18.40625 \r\nQ 63.625 12.0625 66.03125 8.421875 \r\nQ 68.453125 4.78125 72.703125 4.78125 \r\nQ 76.859375 4.78125 79.265625 8.421875 \r\nQ 81.6875 12.0625 81.6875 18.40625 \r\nQ 81.6875 24.8125 79.265625 28.4375 \r\nQ 76.859375 32.078125 72.703125 32.078125 \r\nz\r\nM 72.703125 38.28125 \r\nQ 80.421875 38.28125 84.953125 32.90625 \r\nQ 89.5 27.546875 89.5 18.40625 \r\nQ 89.5 9.28125 84.9375 3.921875 \r\nQ 80.375 -1.421875 72.703125 -1.421875 \r\nQ 64.890625 -1.421875 60.34375 3.921875 \r\nQ 55.8125 9.28125 55.8125 18.40625 \r\nQ 55.8125 27.59375 60.375 32.9375 \r\nQ 64.9375 38.28125 72.703125 38.28125 \r\nz\r\nM 22.3125 68.015625 \r\nQ 18.109375 68.015625 15.6875 64.375 \r\nQ 13.28125 60.75 13.28125 54.390625 \r\nQ 13.28125 47.953125 15.671875 44.328125 \r\nQ 18.0625 40.71875 22.3125 40.71875 \r\nQ 26.5625 40.71875 28.96875 44.328125 \r\nQ 31.390625 47.953125 31.390625 54.390625 \r\nQ 31.390625 60.6875 28.953125 64.34375 \r\nQ 26.515625 68.015625 22.3125 68.015625 \r\nz\r\nM 66.40625 74.21875 \r\nL 74.21875 74.21875 \r\nL 28.609375 -1.421875 \r\nL 20.796875 -1.421875 \r\nz\r\nM 22.3125 74.21875 \r\nQ 30.03125 74.21875 34.609375 68.875 \r\nQ 39.203125 63.53125 39.203125 54.390625 \r\nQ 39.203125 45.171875 34.640625 39.84375 \r\nQ 30.078125 34.515625 22.3125 34.515625 \r\nQ 14.546875 34.515625 10.03125 39.859375 \r\nQ 5.515625 45.21875 5.515625 54.390625 \r\nQ 5.515625 63.484375 10.046875 68.84375 \r\nQ 14.59375 74.21875 22.3125 74.21875 \r\nz\r\n\" id=\"DejaVuSans-37\"/>\r\n     </defs>\r\n     <use xlink:href=\"#DejaVuSans-53\"/>\r\n     <use x=\"63.623047\" xlink:href=\"#DejaVuSans-54\"/>\r\n     <use x=\"127.246094\" xlink:href=\"#DejaVuSans-46\"/>\r\n     <use x=\"159.033203\" xlink:href=\"#DejaVuSans-56\"/>\r\n     <use x=\"222.65625\" xlink:href=\"#DejaVuSans-37\"/>\r\n    </g>\r\n   </g>\r\n   <g id=\"text_3\">\r\n    <!-- Negative -->\r\n    <g transform=\"translate(279.869741 95.43345)scale(0.1 -0.1)\">\r\n     <defs>\r\n      <path d=\"M 9.8125 72.90625 \r\nL 23.09375 72.90625 \r\nL 55.421875 11.921875 \r\nL 55.421875 72.90625 \r\nL 64.984375 72.90625 \r\nL 64.984375 0 \r\nL 51.703125 0 \r\nL 19.390625 60.984375 \r\nL 19.390625 0 \r\nL 9.8125 0 \r\nz\r\n\" id=\"DejaVuSans-78\"/>\r\n      <path d=\"M 45.40625 27.984375 \r\nQ 45.40625 37.75 41.375 43.109375 \r\nQ 37.359375 48.484375 30.078125 48.484375 \r\nQ 22.859375 48.484375 18.828125 43.109375 \r\nQ 14.796875 37.75 14.796875 27.984375 \r\nQ 14.796875 18.265625 18.828125 12.890625 \r\nQ 22.859375 7.515625 30.078125 7.515625 \r\nQ 37.359375 7.515625 41.375 12.890625 \r\nQ 45.40625 18.265625 45.40625 27.984375 \r\nz\r\nM 54.390625 6.78125 \r\nQ 54.390625 -7.171875 48.1875 -13.984375 \r\nQ 42 -20.796875 29.203125 -20.796875 \r\nQ 24.46875 -20.796875 20.265625 -20.09375 \r\nQ 16.0625 -19.390625 12.109375 -17.921875 \r\nL 12.109375 -9.1875 \r\nQ 16.0625 -11.328125 19.921875 -12.34375 \r\nQ 23.78125 -13.375 27.78125 -13.375 \r\nQ 36.625 -13.375 41.015625 -8.765625 \r\nQ 45.40625 -4.15625 45.40625 5.171875 \r\nL 45.40625 9.625 \r\nQ 42.625 4.78125 38.28125 2.390625 \r\nQ 33.9375 0 27.875 0 \r\nQ 17.828125 0 11.671875 7.65625 \r\nQ 5.515625 15.328125 5.515625 27.984375 \r\nQ 5.515625 40.671875 11.671875 48.328125 \r\nQ 17.828125 56 27.875 56 \r\nQ 33.9375 56 38.28125 53.609375 \r\nQ 42.625 51.21875 45.40625 46.390625 \r\nL 45.40625 54.6875 \r\nL 54.390625 54.6875 \r\nz\r\n\" id=\"DejaVuSans-103\"/>\r\n      <path d=\"M 34.28125 27.484375 \r\nQ 23.390625 27.484375 19.1875 25 \r\nQ 14.984375 22.515625 14.984375 16.5 \r\nQ 14.984375 11.71875 18.140625 8.90625 \r\nQ 21.296875 6.109375 26.703125 6.109375 \r\nQ 34.1875 6.109375 38.703125 11.40625 \r\nQ 43.21875 16.703125 43.21875 25.484375 \r\nL 43.21875 27.484375 \r\nz\r\nM 52.203125 31.203125 \r\nL 52.203125 0 \r\nL 43.21875 0 \r\nL 43.21875 8.296875 \r\nQ 40.140625 3.328125 35.546875 0.953125 \r\nQ 30.953125 -1.421875 24.3125 -1.421875 \r\nQ 15.921875 -1.421875 10.953125 3.296875 \r\nQ 6 8.015625 6 15.921875 \r\nQ 6 25.140625 12.171875 29.828125 \r\nQ 18.359375 34.515625 30.609375 34.515625 \r\nL 43.21875 34.515625 \r\nL 43.21875 35.40625 \r\nQ 43.21875 41.609375 39.140625 45 \r\nQ 35.0625 48.390625 27.6875 48.390625 \r\nQ 23 48.390625 18.546875 47.265625 \r\nQ 14.109375 46.140625 10.015625 43.890625 \r\nL 10.015625 52.203125 \r\nQ 14.9375 54.109375 19.578125 55.046875 \r\nQ 24.21875 56 28.609375 56 \r\nQ 40.484375 56 46.34375 49.84375 \r\nQ 52.203125 43.703125 52.203125 31.203125 \r\nz\r\n\" id=\"DejaVuSans-97\"/>\r\n     </defs>\r\n     <use xlink:href=\"#DejaVuSans-78\"/>\r\n     <use x=\"74.804688\" xlink:href=\"#DejaVuSans-101\"/>\r\n     <use x=\"136.328125\" xlink:href=\"#DejaVuSans-103\"/>\r\n     <use x=\"199.804688\" xlink:href=\"#DejaVuSans-97\"/>\r\n     <use x=\"261.083984\" xlink:href=\"#DejaVuSans-116\"/>\r\n     <use x=\"300.292969\" xlink:href=\"#DejaVuSans-105\"/>\r\n     <use x=\"328.076172\" xlink:href=\"#DejaVuSans-118\"/>\r\n     <use x=\"387.255859\" xlink:href=\"#DejaVuSans-101\"/>\r\n    </g>\r\n   </g>\r\n   <g id=\"text_4\">\r\n    <!-- 43.2% -->\r\n    <g transform=\"translate(215.75987 105.945707)scale(0.1 -0.1)\">\r\n     <defs>\r\n      <path d=\"M 37.796875 64.3125 \r\nL 12.890625 25.390625 \r\nL 37.796875 25.390625 \r\nz\r\nM 35.203125 72.90625 \r\nL 47.609375 72.90625 \r\nL 47.609375 25.390625 \r\nL 58.015625 25.390625 \r\nL 58.015625 17.1875 \r\nL 47.609375 17.1875 \r\nL 47.609375 0 \r\nL 37.796875 0 \r\nL 37.796875 17.1875 \r\nL 4.890625 17.1875 \r\nL 4.890625 26.703125 \r\nz\r\n\" id=\"DejaVuSans-52\"/>\r\n      <path d=\"M 40.578125 39.3125 \r\nQ 47.65625 37.796875 51.625 33 \r\nQ 55.609375 28.21875 55.609375 21.1875 \r\nQ 55.609375 10.40625 48.1875 4.484375 \r\nQ 40.765625 -1.421875 27.09375 -1.421875 \r\nQ 22.515625 -1.421875 17.65625 -0.515625 \r\nQ 12.796875 0.390625 7.625 2.203125 \r\nL 7.625 11.71875 \r\nQ 11.71875 9.328125 16.59375 8.109375 \r\nQ 21.484375 6.890625 26.8125 6.890625 \r\nQ 36.078125 6.890625 40.9375 10.546875 \r\nQ 45.796875 14.203125 45.796875 21.1875 \r\nQ 45.796875 27.640625 41.28125 31.265625 \r\nQ 36.765625 34.90625 28.71875 34.90625 \r\nL 20.21875 34.90625 \r\nL 20.21875 43.015625 \r\nL 29.109375 43.015625 \r\nQ 36.375 43.015625 40.234375 45.921875 \r\nQ 44.09375 48.828125 44.09375 54.296875 \r\nQ 44.09375 59.90625 40.109375 62.90625 \r\nQ 36.140625 65.921875 28.71875 65.921875 \r\nQ 24.65625 65.921875 20.015625 65.03125 \r\nQ 15.375 64.15625 9.8125 62.3125 \r\nL 9.8125 71.09375 \r\nQ 15.4375 72.65625 20.34375 73.4375 \r\nQ 25.25 74.21875 29.59375 74.21875 \r\nQ 40.828125 74.21875 47.359375 69.109375 \r\nQ 53.90625 64.015625 53.90625 55.328125 \r\nQ 53.90625 49.265625 50.4375 45.09375 \r\nQ 46.96875 40.921875 40.578125 39.3125 \r\nz\r\n\" id=\"DejaVuSans-51\"/>\r\n      <path d=\"M 19.1875 8.296875 \r\nL 53.609375 8.296875 \r\nL 53.609375 0 \r\nL 7.328125 0 \r\nL 7.328125 8.296875 \r\nQ 12.9375 14.109375 22.625 23.890625 \r\nQ 32.328125 33.6875 34.8125 36.53125 \r\nQ 39.546875 41.84375 41.421875 45.53125 \r\nQ 43.3125 49.21875 43.3125 52.78125 \r\nQ 43.3125 58.59375 39.234375 62.25 \r\nQ 35.15625 65.921875 28.609375 65.921875 \r\nQ 23.96875 65.921875 18.8125 64.3125 \r\nQ 13.671875 62.703125 7.8125 59.421875 \r\nL 7.8125 69.390625 \r\nQ 13.765625 71.78125 18.9375 73 \r\nQ 24.125 74.21875 28.421875 74.21875 \r\nQ 39.75 74.21875 46.484375 68.546875 \r\nQ 53.21875 62.890625 53.21875 53.421875 \r\nQ 53.21875 48.921875 51.53125 44.890625 \r\nQ 49.859375 40.875 45.40625 35.40625 \r\nQ 44.1875 33.984375 37.640625 27.21875 \r\nQ 31.109375 20.453125 19.1875 8.296875 \r\nz\r\n\" id=\"DejaVuSans-50\"/>\r\n     </defs>\r\n     <use xlink:href=\"#DejaVuSans-52\"/>\r\n     <use x=\"63.623047\" xlink:href=\"#DejaVuSans-51\"/>\r\n     <use x=\"127.246094\" xlink:href=\"#DejaVuSans-46\"/>\r\n     <use x=\"159.033203\" xlink:href=\"#DejaVuSans-50\"/>\r\n     <use x=\"222.65625\" xlink:href=\"#DejaVuSans-37\"/>\r\n    </g>\r\n   </g>\r\n  </g>\r\n </g>\r\n</svg>\r\n",
      "image/png": "[encoded data removed]"
     },
     "metadata": {}
    }
   ],
   "source": [
    "data = tweets_final['sentiment'].value_counts()\n",
    "labels = 'Positive','Negative'\n",
    "\n",
    "fig1, ax1 = plt.subplots()\n",
    "ax1.pie(data, labels=labels, autopct='%1.1f%%',\n",
    "        shadow=True, startangle=90)\n",
    "ax1.axis('equal')\n",
    "\n",
    "plt.show()"
   ]
  },
  {
   "cell_type": "code",
   "execution_count": 78,
   "metadata": {},
   "outputs": [
    {
     "output_type": "execute_result",
     "data": {
      "text/plain": [
       "           _id  tweet_id  user_name  user_location  hashtags  original_tweet  \\\n",
       "language                                                                       \n",
       "ca           4         4          4              4         4               1   \n",
       "cs           2         2          2              2         2               0   \n",
       "cy           1         1          1              1         1               1   \n",
       "da           1         1          1              1         1               0   \n",
       "de          36        36         36             36        36              11   \n",
       "el           1         1          1              1         1               0   \n",
       "en        8846      8846       8846           8846      8846            1584   \n",
       "es         174       174        174            174       174              32   \n",
       "fa           3         3          3              3         3               0   \n",
       "fr          32        32         32             32        32               8   \n",
       "hi           1         1          1              1         1               1   \n",
       "in           5         5          5              5         5               1   \n",
       "it           5         5          5              5         5               0   \n",
       "ja          33        33         33             33        33              15   \n",
       "nl          11        11         11             11        11               4   \n",
       "no           1         1          1              1         1               0   \n",
       "pl           2         2          2              2         2               1   \n",
       "pt          75        75         75             75        75              19   \n",
       "ro           1         1          1              1         1               1   \n",
       "sl           1         1          1              1         1               0   \n",
       "sv           5         5          5              5         5               1   \n",
       "th           1         1          1              1         1               0   \n",
       "tl           4         4          4              4         4               4   \n",
       "tr          12        12         12             12        12               8   \n",
       "und         69        69         69             69        69              24   \n",
       "zh           4         4          4              4         4               0   \n",
       "\n",
       "          content  \n",
       "language           \n",
       "ca              4  \n",
       "cs              2  \n",
       "cy              1  \n",
       "da              1  \n",
       "de             36  \n",
       "el              1  \n",
       "en           8846  \n",
       "es            174  \n",
       "fa              3  \n",
       "fr             32  \n",
       "hi              1  \n",
       "in              5  \n",
       "it              5  \n",
       "ja             33  \n",
       "nl             11  \n",
       "no              1  \n",
       "pl              2  \n",
       "pt             75  \n",
       "ro              1  \n",
       "sl              1  \n",
       "sv              5  \n",
       "th              1  \n",
       "tl              4  \n",
       "tr             12  \n",
       "und            69  \n",
       "zh              4  "
      ],
      "text/html": "<div>\n<style scoped>\n    .dataframe tbody tr th:only-of-type {\n        vertical-align: middle;\n    }\n\n    .dataframe tbody tr th {\n        vertical-align: top;\n    }\n\n    .dataframe thead th {\n        text-align: right;\n    }\n</style>\n<table border=\"1\" class=\"dataframe\">\n  <thead>\n    <tr style=\"text-align: right;\">\n      <th></th>\n      <th>_id</th>\n      <th>tweet_id</th>\n      <th>user_name</th>\n      <th>user_location</th>\n      <th>hashtags</th>\n      <th>original_tweet</th>\n      <th>content</th>\n    </tr>\n    <tr>\n      <th>language</th>\n      <th></th>\n      <th></th>\n      <th></th>\n      <th></th>\n      <th></th>\n      <th></th>\n      <th></th>\n    </tr>\n  </thead>\n  <tbody>\n    <tr>\n      <th>ca</th>\n      <td>4</td>\n      <td>4</td>\n      <td>4</td>\n      <td>4</td>\n      <td>4</td>\n      <td>1</td>\n      <td>4</td>\n    </tr>\n    <tr>\n      <th>cs</th>\n      <td>2</td>\n      <td>2</td>\n      <td>2</td>\n      <td>2</td>\n      <td>2</td>\n      <td>0</td>\n      <td>2</td>\n    </tr>\n    <tr>\n      <th>cy</th>\n      <td>1</td>\n      <td>1</td>\n      <td>1</td>\n      <td>1</td>\n      <td>1</td>\n      <td>1</td>\n      <td>1</td>\n    </tr>\n    <tr>\n      <th>da</th>\n      <td>1</td>\n      <td>1</td>\n      <td>1</td>\n      <td>1</td>\n      <td>1</td>\n      <td>0</td>\n      <td>1</td>\n    </tr>\n    <tr>\n      <th>de</th>\n      <td>36</td>\n      <td>36</td>\n      <td>36</td>\n      <td>36</td>\n      <td>36</td>\n      <td>11</td>\n      <td>36</td>\n    </tr>\n    <tr>\n      <th>el</th>\n      <td>1</td>\n      <td>1</td>\n      <td>1</td>\n      <td>1</td>\n      <td>1</td>\n      <td>0</td>\n      <td>1</td>\n    </tr>\n    <tr>\n      <th>en</th>\n      <td>8846</td>\n      <td>8846</td>\n      <td>8846</td>\n      <td>8846</td>\n      <td>8846</td>\n      <td>1584</td>\n      <td>8846</td>\n    </tr>\n    <tr>\n      <th>es</th>\n      <td>174</td>\n      <td>174</td>\n      <td>174</td>\n      <td>174</td>\n      <td>174</td>\n      <td>32</td>\n      <td>174</td>\n    </tr>\n    <tr>\n      <th>fa</th>\n      <td>3</td>\n      <td>3</td>\n      <td>3</td>\n      <td>3</td>\n      <td>3</td>\n      <td>0</td>\n      <td>3</td>\n    </tr>\n    <tr>\n      <th>fr</th>\n      <td>32</td>\n      <td>32</td>\n      <td>32</td>\n      <td>32</td>\n      <td>32</td>\n      <td>8</td>\n      <td>32</td>\n    </tr>\n    <tr>\n      <th>hi</th>\n      <td>1</td>\n      <td>1</td>\n      <td>1</td>\n      <td>1</td>\n      <td>1</td>\n      <td>1</td>\n      <td>1</td>\n    </tr>\n    <tr>\n      <th>in</th>\n      <td>5</td>\n      <td>5</td>\n      <td>5</td>\n      <td>5</td>\n      <td>5</td>\n      <td>1</td>\n      <td>5</td>\n    </tr>\n    <tr>\n      <th>it</th>\n      <td>5</td>\n      <td>5</td>\n      <td>5</td>\n      <td>5</td>\n      <td>5</td>\n      <td>0</td>\n      <td>5</td>\n    </tr>\n    <tr>\n      <th>ja</th>\n      <td>33</td>\n      <td>33</td>\n      <td>33</td>\n      <td>33</td>\n      <td>33</td>\n      <td>15</td>\n      <td>33</td>\n    </tr>\n    <tr>\n      <th>nl</th>\n      <td>11</td>\n      <td>11</td>\n      <td>11</td>\n      <td>11</td>\n      <td>11</td>\n      <td>4</td>\n      <td>11</td>\n    </tr>\n    <tr>\n      <th>no</th>\n      <td>1</td>\n      <td>1</td>\n      <td>1</td>\n      <td>1</td>\n      <td>1</td>\n      <td>0</td>\n      <td>1</td>\n    </tr>\n    <tr>\n      <th>pl</th>\n      <td>2</td>\n      <td>2</td>\n      <td>2</td>\n      <td>2</td>\n      <td>2</td>\n      <td>1</td>\n      <td>2</td>\n    </tr>\n    <tr>\n      <th>pt</th>\n      <td>75</td>\n      <td>75</td>\n      <td>75</td>\n      <td>75</td>\n      <td>75</td>\n      <td>19</td>\n      <td>75</td>\n    </tr>\n    <tr>\n      <th>ro</th>\n      <td>1</td>\n      <td>1</td>\n      <td>1</td>\n      <td>1</td>\n      <td>1</td>\n      <td>1</td>\n      <td>1</td>\n    </tr>\n    <tr>\n      <th>sl</th>\n      <td>1</td>\n      <td>1</td>\n      <td>1</td>\n      <td>1</td>\n      <td>1</td>\n      <td>0</td>\n      <td>1</td>\n    </tr>\n    <tr>\n      <th>sv</th>\n      <td>5</td>\n      <td>5</td>\n      <td>5</td>\n      <td>5</td>\n      <td>5</td>\n      <td>1</td>\n      <td>5</td>\n    </tr>\n    <tr>\n      <th>th</th>\n      <td>1</td>\n      <td>1</td>\n      <td>1</td>\n      <td>1</td>\n      <td>1</td>\n      <td>0</td>\n      <td>1</td>\n    </tr>\n    <tr>\n      <th>tl</th>\n      <td>4</td>\n      <td>4</td>\n      <td>4</td>\n      <td>4</td>\n      <td>4</td>\n      <td>4</td>\n      <td>4</td>\n    </tr>\n    <tr>\n      <th>tr</th>\n      <td>12</td>\n      <td>12</td>\n      <td>12</td>\n      <td>12</td>\n      <td>12</td>\n      <td>8</td>\n      <td>12</td>\n    </tr>\n    <tr>\n      <th>und</th>\n      <td>69</td>\n      <td>69</td>\n      <td>69</td>\n      <td>69</td>\n      <td>69</td>\n      <td>24</td>\n      <td>69</td>\n    </tr>\n    <tr>\n      <th>zh</th>\n      <td>4</td>\n      <td>4</td>\n      <td>4</td>\n      <td>4</td>\n      <td>4</td>\n      <td>0</td>\n      <td>4</td>\n    </tr>\n  </tbody>\n</table>\n</div>"
     },
     "metadata": {},
     "execution_count": 78
    }
   ],
   "source": [
    "tweets_final['language'].unique()\n",
    "\n",
    "tweets_final.set_index(['language','sentiment']).count(level='language')"
   ]
  }
 ]
}